{
 "cells": [
  {
   "cell_type": "code",
   "execution_count": 2,
   "metadata": {
    "collapsed": false
   },
   "outputs": [],
   "source": [
    "import os\n",
    "import cPickle as pickle\n",
    "import numpy as np\n",
    "import pandas as pd\n",
    "from sklearn.cross_validation import train_test_split\n",
    "\n",
    "import sys\n",
    "sys.path.append('../')\n",
    "\n",
    "%matplotlib inline\n",
    "import matplotlib as mpl\n",
    "import matplotlib.pylab as plt\n",
    "import tt\n",
    "from src.TTRegression import TTRegression\n",
    "import urllib"
   ]
  },
  {
   "cell_type": "code",
   "execution_count": 3,
   "metadata": {
    "collapsed": true
   },
   "outputs": [],
   "source": [
    "train_fraction = 0.8"
   ]
  },
  {
   "cell_type": "code",
   "execution_count": 4,
   "metadata": {
    "collapsed": true
   },
   "outputs": [],
   "source": [
    "def get_dummies(d, col):\n",
    "    dd = pd.get_dummies(d.ix[:, col])\n",
    "    dd.columns = [str(col) + \"_%s\" % c for c in dd.columns]\n",
    "    return(dd)"
   ]
  },
  {
   "cell_type": "code",
   "execution_count": 5,
   "metadata": {
    "collapsed": false
   },
   "outputs": [
    {
     "name": "stdout",
     "output_type": "stream",
     "text": [
      "... loading data\n",
      "dataset len: 1625\n",
      "\n",
      "Original targets:\n",
      "-1    1250\n",
      " 1     375\n",
      "Name: 1, dtype: int64\n"
     ]
    }
   ],
   "source": [
    "# Reproducability.\n",
    "np.random.seed(0)\n",
    "\n",
    "dataset_path = 'hiv.txt'\n",
    "# if (not os.path.isfile(dataset_path)):\n",
    "#     dataset_url = 'http://archive.ics.uci.edu/ml/machine-learning-databases/car/car.data'\n",
    "#     print('Downloading data from %s' % dataset_url)\n",
    "#     urllib.urlretrieve(dataset_url, dataset_path)\n",
    "\n",
    "\n",
    "print('... loading data')\n",
    "hiv_data = pd.read_csv(dataset_path, header=None)\n",
    "\n",
    "print \"dataset len: %d\\n\" % len(hiv_data)\n",
    "print \"Original targets:\"\n",
    "print hiv_data.ix[:, 1].value_counts()\n",
    "\n",
    "hiv_target = hiv_data.ix[:, 1].values\n",
    "\n",
    "cols = []\n",
    "for i in range(8):\n",
    "    dd = pd.get_dummies((hiv_data.ix[:, 0].str[i]))\n",
    "    dd.columns = [str(i) + \"_%s\" % c for c in dd.columns]\n",
    "    cols.append(dd)\n",
    "hiv_features_one_hot = pd.concat(cols, axis=1)\n",
    "hiv_features_one_hot = hiv_features_one_hot.as_matrix()\n",
    "\n",
    "# Shuffle.\n",
    "idx_perm = np.random.permutation(len(hiv_data))\n",
    "\n",
    "X, y = hiv_features_one_hot[idx_perm, :], hiv_target[idx_perm]\n",
    "\n",
    "num_objects = y.size\n",
    "train_size = np.round(num_objects * train_fraction).astype(int)\n",
    "X_train = X[:train_size, :]\n",
    "y_train = y[:train_size]\n",
    "X_val = X[train_size:, :]\n",
    "y_val = y[train_size:]"
   ]
  },
  {
   "cell_type": "code",
   "execution_count": 6,
   "metadata": {
    "collapsed": false
   },
   "outputs": [
    {
     "name": "stdout",
     "output_type": "stream",
     "text": [
      "(1300, 160)\n",
      "(325, 160)\n"
     ]
    }
   ],
   "source": [
    "print(X_train.shape)\n",
    "print(X_val.shape)"
   ]
  },
  {
   "cell_type": "markdown",
   "metadata": {},
   "source": [
    "# Train"
   ]
  },
  {
   "cell_type": "code",
   "execution_count": 102,
   "metadata": {
    "collapsed": false
   },
   "outputs": [
    {
     "data": {
      "text/plain": [
       "0.091907711416386123"
      ]
     },
     "execution_count": 102,
     "metadata": {},
     "output_type": "execute_result"
    }
   ],
   "source": [
    "from sklearn.linear_model import LogisticRegression\n",
    "from sklearn import metrics\n",
    "md = LogisticRegression()\n",
    "md.fit(X_train, y_train)\n",
    "\n",
    "phat = md.predict_proba(X_val)[:,1]\n",
    "metrics.log_loss(y_val, phat)"
   ]
  },
  {
   "cell_type": "code",
   "execution_count": 106,
   "metadata": {
    "collapsed": false
   },
   "outputs": [
    {
     "data": {
      "text/plain": [
       "['X_val',\n",
       " 'X_train',\n",
       " 'riemannian_sgd_smart_rand',\n",
       " 'plain_sgd_rand',\n",
       " 'plain_sgd',\n",
       " 'riemannian_sgd',\n",
       " 'riemannian_sgd_rand',\n",
       " 'y_val',\n",
       " 'y_train',\n",
       " 'plain_sgd_smart_rand']"
      ]
     },
     "execution_count": 106,
     "metadata": {},
     "output_type": "execute_result"
    }
   ],
   "source": [
    "logs.keys()"
   ]
  },
  {
   "cell_type": "code",
   "execution_count": 148,
   "metadata": {
    "collapsed": false
   },
   "outputs": [
    {
     "data": {
      "text/plain": [
       "(0.049553831284881833, 0.072686232951934965)"
      ]
     },
     "execution_count": 148,
     "metadata": {},
     "output_type": "execute_result"
    }
   ],
   "source": [
    "\n",
    "# To use the same order of looping through objects for all runs.\n",
    "rieamannian_model = TTRegression('all-subsets', 'logistic', 4, 10, 'riemannian-sgd', max_iter=100, verbose=1,\n",
    "                                 batch_size=500, fit_intercept=False, reg=0.001)#, exp_reg=1.2)\n",
    "rieamannian_model.fit_log_val(X_train, y_train, X_val, y_val)\n",
    "rieamannian_model.logger.loss_hist['train']['logistic'][-1], rieamannian_model.logger.loss_hist['valid']['logistic'][-1]"
   ]
  },
  {
   "cell_type": "code",
   "execution_count": 149,
   "metadata": {
    "collapsed": false
   },
   "outputs": [
    {
     "data": {
      "text/plain": [
       "[<matplotlib.lines.Line2D at 0x1195a2110>]"
      ]
     },
     "execution_count": 149,
     "metadata": {},
     "output_type": "execute_result"
    },
    {
     "data": {
      "image/png": "[encoded data removed]",
      "text/plain": [
       "<matplotlib.figure.Figure at 0x1148d4fd0>"
      ]
     },
     "metadata": {},
     "output_type": "display_data"
    }
   ],
   "source": [
    "plt.plot(rieamannian_model.logger.loss_hist['train']['logistic'][1:])\n",
    "plt.plot(rieamannian_model.logger.loss_hist['valid']['logistic'][1:])"
   ]
  },
  {
   "cell_type": "code",
   "execution_count": 153,
   "metadata": {
    "collapsed": false
   },
   "outputs": [
    {
     "data": {
      "text/plain": [
       "(0.055013951202464745, 0.068450260366060611)"
      ]
     },
     "execution_count": 153,
     "metadata": {},
     "output_type": "execute_result"
    }
   ],
   "source": [
    "\n",
    "# To use the same order of looping through objects for all runs.\n",
    "model = TTRegression('all-subsets', 'logistic', 4, 0.001, 'sgd', max_iter=100, verbose=1,\n",
    "                                 batch_size=500, fit_intercept=False, reg=0.0001)\n",
    "model.fit_log_val(X_train, y_train, X_val, y_val)\n",
    "model.logger.loss_hist['train']['logistic'][-1], model.logger.loss_hist['valid']['logistic'][-1]"
   ]
  },
  {
   "cell_type": "code",
   "execution_count": 154,
   "metadata": {
    "collapsed": false
   },
   "outputs": [
    {
     "data": {
      "text/plain": [
       "[<matplotlib.lines.Line2D at 0x11366d550>]"
      ]
     },
     "execution_count": 154,
     "metadata": {},
     "output_type": "execute_result"
    },
    {
     "data": {
      "image/png": "[encoded data removed]",
      "text/plain": [
       "<matplotlib.figure.Figure at 0x119f39f10>"
      ]
     },
     "metadata": {},
     "output_type": "display_data"
    }
   ],
   "source": [
    "plt.plot(model.logger.loss_hist['train']['logistic'][1:])\n",
    "plt.plot(model.logger.loss_hist['valid']['logistic'][1:])"
   ]
  },
  {
   "cell_type": "code",
   "execution_count": 146,
   "metadata": {
    "collapsed": false
   },
   "outputs": [
    {
     "data": {
      "text/plain": [
       "(0.048325617261269105, 0.07357982661999532)"
      ]
     },
     "execution_count": 146,
     "metadata": {},
     "output_type": "execute_result"
    }
   ],
   "source": [
    "\n",
    "# To use the same order of looping through objects for all runs.\n",
    "rieamannian_model = TTRegression('all-subsets', 'logistic', 4, 20, 'riemannian-sgd', max_iter=100, verbose=1,\n",
    "                                 batch_size=500, fit_intercept=False, reg=0.001)#, exp_reg=1.2)\n",
    "rieamannian_model.fit_log_val(X_train, y_train, X_val, y_val)\n",
    "rieamannian_model.logger.loss_hist['train']['logistic'][-1], rieamannian_model.logger.loss_hist['valid']['logistic'][-1]"
   ]
  },
  {
   "cell_type": "code",
   "execution_count": 147,
   "metadata": {
    "collapsed": false
   },
   "outputs": [
    {
     "data": {
      "text/plain": [
       "[<matplotlib.lines.Line2D at 0x1134d3810>]"
      ]
     },
     "execution_count": 147,
     "metadata": {},
     "output_type": "execute_result"
    },
    {
     "data": {
      "image/png": "[encoded data removed]",
      "text/plain": [
       "<matplotlib.figure.Figure at 0x114783f10>"
      ]
     },
     "metadata": {},
     "output_type": "display_data"
    }
   ],
   "source": [
    "plt.plot(rieamannian_model.logger.loss_hist['train']['logistic'][1:])\n",
    "plt.plot(rieamannian_model.logger.loss_hist['valid']['logistic'][1:])"
   ]
  },
  {
   "cell_type": "code",
   "execution_count": 143,
   "metadata": {
    "collapsed": false
   },
   "outputs": [
    {
     "data": {
      "text/plain": [
       "(0.052488880609546637, 0.074131447108265663)"
      ]
     },
     "execution_count": 143,
     "metadata": {},
     "output_type": "execute_result"
    }
   ],
   "source": [
    "\n",
    "# To use the same order of looping through objects for all runs.\n",
    "rieamannian_model = TTRegression('all-subsets', 'logistic', 4, 5, 'riemannian-sgd', max_iter=100, verbose=1,\n",
    "                                 batch_size=500, fit_intercept=False, reg=0.001)#, exp_reg=1.2)\n",
    "rieamannian_model.fit_log_val(X_train, y_train, X_val, y_val)\n",
    "rieamannian_model.logger.loss_hist['train']['logistic'][-1], rieamannian_model.logger.loss_hist['valid']['logistic'][-1]"
   ]
  },
  {
   "cell_type": "code",
   "execution_count": 140,
   "metadata": {
    "collapsed": false
   },
   "outputs": [
    {
     "data": {
      "text/plain": [
       "(0.04899284828491178, 0.075667014143683223)"
      ]
     },
     "execution_count": 140,
     "metadata": {},
     "output_type": "execute_result"
    }
   ],
   "source": [
    "\n",
    "# To use the same order of looping through objects for all runs.\n",
    "rieamannian_model = TTRegression('all-subsets', 'logistic', 4, 20, 'riemannian-sgd', max_iter=100, verbose=1,\n",
    "                                 batch_size=500, fit_intercept=False, reg=0.001)#, exp_reg=1.2)\n",
    "rieamannian_model.fit_log_val(X_train, y_train, X_val, y_val)\n",
    "rieamannian_model.logger.loss_hist['train']['logistic'][-1], rieamannian_model.logger.loss_hist['valid']['logistic'][-1]"
   ]
  },
  {
   "cell_type": "code",
   "execution_count": 137,
   "metadata": {
    "collapsed": false
   },
   "outputs": [
    {
     "data": {
      "text/plain": [
       "0.049805296322674525"
      ]
     },
     "execution_count": 137,
     "metadata": {},
     "output_type": "execute_result"
    }
   ],
   "source": [
    "\n",
    "# To use the same order of looping through objects for all runs.\n",
    "rieamannian_model = TTRegression('all-subsets', 'logistic', 4, 10, 'riemannian-sgd', max_iter=100, verbose=1,\n",
    "                                 batch_size=500, fit_intercept=False, reg=0.001)#, exp_reg=1.2)\n",
    "rieamannian_model.fit_log_val(X_train, y_train, X_val, y_val)\n",
    "rieamannian_model.logger.loss_hist['train']['logistic'][-1], rieamannian_model.logger.loss_hist['valid']['logistic'][-1]"
   ]
  },
  {
   "cell_type": "code",
   "execution_count": 139,
   "metadata": {
    "collapsed": false
   },
   "outputs": [
    {
     "data": {
      "text/plain": [
       "0.073058285036361914"
      ]
     },
     "execution_count": 139,
     "metadata": {},
     "output_type": "execute_result"
    }
   ],
   "source": []
  },
  {
   "cell_type": "code",
   "execution_count": 138,
   "metadata": {
    "collapsed": false
   },
   "outputs": [
    {
     "data": {
      "text/plain": [
       "[<matplotlib.lines.Line2D at 0x114964350>]"
      ]
     },
     "execution_count": 138,
     "metadata": {},
     "output_type": "execute_result"
    },
    {
     "data": {
      "image/png": "[encoded data removed]",
      "text/plain": [
       "<matplotlib.figure.Figure at 0x11728a610>"
      ]
     },
     "metadata": {},
     "output_type": "display_data"
    }
   ],
   "source": [
    "plt.plot(rieamannian_model.logger.loss_hist['valid']['logistic'][1:])"
   ]
  },
  {
   "cell_type": "code",
   "execution_count": null,
   "metadata": {
    "collapsed": true
   },
   "outputs": [],
   "source": []
  },
  {
   "cell_type": "code",
   "execution_count": 109,
   "metadata": {
    "collapsed": false
   },
   "outputs": [
    {
     "data": {
      "text/plain": [
       "array([[ 0.5,  0.5],\n",
       "       [ 0.5,  0.5],\n",
       "       [ 0.5,  0.5],\n",
       "       [ 0.5,  0.5],\n",
       "       [ 0.5,  0.5],\n",
       "       [ 0.5,  0.5],\n",
       "       [ 0.5,  0.5],\n",
       "       [ 0.5,  0.5],\n",
       "       [ 0.5,  0.5],\n",
       "       [ 0.5,  0.5],\n",
       "       [ 0.5,  0.5],\n",
       "       [ 0.5,  0.5],\n",
       "       [ 0.5,  0.5],\n",
       "       [ 0.5,  0.5],\n",
       "       [ 0.5,  0.5],\n",
       "       [ 0.5,  0.5],\n",
       "       [ 0.5,  0.5],\n",
       "       [ 0.5,  0.5],\n",
       "       [ 0.5,  0.5],\n",
       "       [ 0.5,  0.5],\n",
       "       [ 0.5,  0.5],\n",
       "       [ 0.5,  0.5],\n",
       "       [ 0.5,  0.5],\n",
       "       [ 0.5,  0.5],\n",
       "       [ 0.5,  0.5],\n",
       "       [ 0.5,  0.5],\n",
       "       [ 0.5,  0.5],\n",
       "       [ 0.5,  0.5],\n",
       "       [ 0.5,  0.5],\n",
       "       [ 0.5,  0.5],\n",
       "       [ 0.5,  0.5],\n",
       "       [ 0.5,  0.5],\n",
       "       [ 0.5,  0.5],\n",
       "       [ 0.5,  0.5],\n",
       "       [ 0.5,  0.5],\n",
       "       [ 0.5,  0.5],\n",
       "       [ 0.5,  0.5],\n",
       "       [ 0.5,  0.5],\n",
       "       [ 0.5,  0.5],\n",
       "       [ 0.5,  0.5],\n",
       "       [ 0.5,  0.5],\n",
       "       [ 0.5,  0.5],\n",
       "       [ 0.5,  0.5],\n",
       "       [ 0.5,  0.5],\n",
       "       [ 0.5,  0.5],\n",
       "       [ 0.5,  0.5],\n",
       "       [ 0.5,  0.5],\n",
       "       [ 0.5,  0.5],\n",
       "       [ 0.5,  0.5],\n",
       "       [ 0.5,  0.5],\n",
       "       [ 0.5,  0.5],\n",
       "       [ 0.5,  0.5],\n",
       "       [ 0.5,  0.5],\n",
       "       [ 0.5,  0.5],\n",
       "       [ 0.5,  0.5],\n",
       "       [ 0.5,  0.5],\n",
       "       [ 0.5,  0.5],\n",
       "       [ 0.5,  0.5],\n",
       "       [ 0.5,  0.5],\n",
       "       [ 0.5,  0.5],\n",
       "       [ 0.5,  0.5],\n",
       "       [ 0.5,  0.5],\n",
       "       [ 0.5,  0.5],\n",
       "       [ 0.5,  0.5],\n",
       "       [ 0.5,  0.5],\n",
       "       [ 0.5,  0.5],\n",
       "       [ 0.5,  0.5],\n",
       "       [ 0.5,  0.5],\n",
       "       [ 0.5,  0.5],\n",
       "       [ 0.5,  0.5],\n",
       "       [ 0.5,  0.5],\n",
       "       [ 0.5,  0.5],\n",
       "       [ 0.5,  0.5],\n",
       "       [ 0.5,  0.5],\n",
       "       [ 0.5,  0.5],\n",
       "       [ 0.5,  0.5],\n",
       "       [ 0.5,  0.5],\n",
       "       [ 0.5,  0.5],\n",
       "       [ 0.5,  0.5],\n",
       "       [ 0.5,  0.5],\n",
       "       [ 0.5,  0.5],\n",
       "       [ 0.5,  0.5],\n",
       "       [ 0.5,  0.5],\n",
       "       [ 0.5,  0.5],\n",
       "       [ 0.5,  0.5],\n",
       "       [ 0.5,  0.5],\n",
       "       [ 0.5,  0.5],\n",
       "       [ 0.5,  0.5],\n",
       "       [ 0.5,  0.5],\n",
       "       [ 0.5,  0.5],\n",
       "       [ 0.5,  0.5],\n",
       "       [ 0.5,  0.5],\n",
       "       [ 0.5,  0.5],\n",
       "       [ 0.5,  0.5],\n",
       "       [ 0.5,  0.5],\n",
       "       [ 0.5,  0.5],\n",
       "       [ 0.5,  0.5],\n",
       "       [ 0.5,  0.5],\n",
       "       [ 0.5,  0.5],\n",
       "       [ 0.5,  0.5],\n",
       "       [ 0.5,  0.5],\n",
       "       [ 0.5,  0.5],\n",
       "       [ 0.5,  0.5],\n",
       "       [ 0.5,  0.5],\n",
       "       [ 0.5,  0.5],\n",
       "       [ 0.5,  0.5],\n",
       "       [ 0.5,  0.5],\n",
       "       [ 0.5,  0.5],\n",
       "       [ 0.5,  0.5],\n",
       "       [ 0.5,  0.5],\n",
       "       [ 0.5,  0.5],\n",
       "       [ 0.5,  0.5],\n",
       "       [ 0.5,  0.5],\n",
       "       [ 0.5,  0.5],\n",
       "       [ 0.5,  0.5],\n",
       "       [ 0.5,  0.5],\n",
       "       [ 0.5,  0.5],\n",
       "       [ 0.5,  0.5],\n",
       "       [ 0.5,  0.5],\n",
       "       [ 0.5,  0.5],\n",
       "       [ 0.5,  0.5],\n",
       "       [ 0.5,  0.5],\n",
       "       [ 0.5,  0.5],\n",
       "       [ 0.5,  0.5],\n",
       "       [ 0.5,  0.5],\n",
       "       [ 0.5,  0.5],\n",
       "       [ 0.5,  0.5],\n",
       "       [ 0.5,  0.5],\n",
       "       [ 0.5,  0.5],\n",
       "       [ 0.5,  0.5],\n",
       "       [ 0.5,  0.5],\n",
       "       [ 0.5,  0.5],\n",
       "       [ 0.5,  0.5],\n",
       "       [ 0.5,  0.5],\n",
       "       [ 0.5,  0.5],\n",
       "       [ 0.5,  0.5],\n",
       "       [ 0.5,  0.5],\n",
       "       [ 0.5,  0.5],\n",
       "       [ 0.5,  0.5],\n",
       "       [ 0.5,  0.5],\n",
       "       [ 0.5,  0.5],\n",
       "       [ 0.5,  0.5],\n",
       "       [ 0.5,  0.5],\n",
       "       [ 0.5,  0.5],\n",
       "       [ 0.5,  0.5],\n",
       "       [ 0.5,  0.5],\n",
       "       [ 0.5,  0.5],\n",
       "       [ 0.5,  0.5],\n",
       "       [ 0.5,  0.5],\n",
       "       [ 0.5,  0.5],\n",
       "       [ 0.5,  0.5],\n",
       "       [ 0.5,  0.5],\n",
       "       [ 0.5,  0.5],\n",
       "       [ 0.5,  0.5],\n",
       "       [ 0.5,  0.5],\n",
       "       [ 0.5,  0.5],\n",
       "       [ 0.5,  0.5],\n",
       "       [ 0.5,  0.5],\n",
       "       [ 0.5,  0.5],\n",
       "       [ 0.5,  0.5],\n",
       "       [ 0.5,  0.5],\n",
       "       [ 0.5,  0.5],\n",
       "       [ 0.5,  0.5],\n",
       "       [ 0.5,  0.5],\n",
       "       [ 0.5,  0.5],\n",
       "       [ 0.5,  0.5],\n",
       "       [ 0.5,  0.5],\n",
       "       [ 0.5,  0.5],\n",
       "       [ 0.5,  0.5],\n",
       "       [ 0.5,  0.5],\n",
       "       [ 0.5,  0.5],\n",
       "       [ 0.5,  0.5],\n",
       "       [ 0.5,  0.5],\n",
       "       [ 0.5,  0.5],\n",
       "       [ 0.5,  0.5],\n",
       "       [ 0.5,  0.5],\n",
       "       [ 0.5,  0.5],\n",
       "       [ 0.5,  0.5],\n",
       "       [ 0.5,  0.5],\n",
       "       [ 0.5,  0.5],\n",
       "       [ 0.5,  0.5],\n",
       "       [ 0.5,  0.5],\n",
       "       [ 0.5,  0.5],\n",
       "       [ 0.5,  0.5],\n",
       "       [ 0.5,  0.5],\n",
       "       [ 0.5,  0.5],\n",
       "       [ 0.5,  0.5],\n",
       "       [ 0.5,  0.5],\n",
       "       [ 0.5,  0.5],\n",
       "       [ 0.5,  0.5],\n",
       "       [ 0.5,  0.5],\n",
       "       [ 0.5,  0.5],\n",
       "       [ 0.5,  0.5],\n",
       "       [ 0.5,  0.5],\n",
       "       [ 0.5,  0.5],\n",
       "       [ 0.5,  0.5],\n",
       "       [ 0.5,  0.5],\n",
       "       [ 0.5,  0.5],\n",
       "       [ 0.5,  0.5],\n",
       "       [ 0.5,  0.5],\n",
       "       [ 0.5,  0.5],\n",
       "       [ 0.5,  0.5],\n",
       "       [ 0.5,  0.5],\n",
       "       [ 0.5,  0.5],\n",
       "       [ 0.5,  0.5],\n",
       "       [ 0.5,  0.5],\n",
       "       [ 0.5,  0.5],\n",
       "       [ 0.5,  0.5],\n",
       "       [ 0.5,  0.5],\n",
       "       [ 0.5,  0.5],\n",
       "       [ 0.5,  0.5],\n",
       "       [ 0.5,  0.5],\n",
       "       [ 0.5,  0.5],\n",
       "       [ 0.5,  0.5],\n",
       "       [ 0.5,  0.5],\n",
       "       [ 0.5,  0.5],\n",
       "       [ 0.5,  0.5],\n",
       "       [ 0.5,  0.5],\n",
       "       [ 0.5,  0.5],\n",
       "       [ 0.5,  0.5],\n",
       "       [ 0.5,  0.5],\n",
       "       [ 0.5,  0.5],\n",
       "       [ 0.5,  0.5],\n",
       "       [ 0.5,  0.5],\n",
       "       [ 0.5,  0.5],\n",
       "       [ 0.5,  0.5],\n",
       "       [ 0.5,  0.5],\n",
       "       [ 0.5,  0.5],\n",
       "       [ 0.5,  0.5],\n",
       "       [ 0.5,  0.5],\n",
       "       [ 0.5,  0.5],\n",
       "       [ 0.5,  0.5],\n",
       "       [ 0.5,  0.5],\n",
       "       [ 0.5,  0.5],\n",
       "       [ 0.5,  0.5],\n",
       "       [ 0.5,  0.5],\n",
       "       [ 0.5,  0.5],\n",
       "       [ 0.5,  0.5],\n",
       "       [ 0.5,  0.5],\n",
       "       [ 0.5,  0.5],\n",
       "       [ 0.5,  0.5],\n",
       "       [ 0.5,  0.5],\n",
       "       [ 0.5,  0.5],\n",
       "       [ 0.5,  0.5],\n",
       "       [ 0.5,  0.5],\n",
       "       [ 0.5,  0.5],\n",
       "       [ 0.5,  0.5],\n",
       "       [ 0.5,  0.5],\n",
       "       [ 0.5,  0.5],\n",
       "       [ 0.5,  0.5],\n",
       "       [ 0.5,  0.5],\n",
       "       [ 0.5,  0.5],\n",
       "       [ 0.5,  0.5],\n",
       "       [ 0.5,  0.5],\n",
       "       [ 0.5,  0.5],\n",
       "       [ 0.5,  0.5],\n",
       "       [ 0.5,  0.5],\n",
       "       [ 0.5,  0.5],\n",
       "       [ 0.5,  0.5],\n",
       "       [ 0.5,  0.5],\n",
       "       [ 0.5,  0.5],\n",
       "       [ 0.5,  0.5],\n",
       "       [ 0.5,  0.5],\n",
       "       [ 0.5,  0.5],\n",
       "       [ 0.5,  0.5],\n",
       "       [ 0.5,  0.5],\n",
       "       [ 0.5,  0.5],\n",
       "       [ 0.5,  0.5],\n",
       "       [ 0.5,  0.5],\n",
       "       [ 0.5,  0.5],\n",
       "       [ 0.5,  0.5],\n",
       "       [ 0.5,  0.5],\n",
       "       [ 0.5,  0.5],\n",
       "       [ 0.5,  0.5],\n",
       "       [ 0.5,  0.5],\n",
       "       [ 0.5,  0.5],\n",
       "       [ 0.5,  0.5],\n",
       "       [ 0.5,  0.5],\n",
       "       [ 0.5,  0.5],\n",
       "       [ 0.5,  0.5],\n",
       "       [ 0.5,  0.5],\n",
       "       [ 0.5,  0.5],\n",
       "       [ 0.5,  0.5],\n",
       "       [ 0.5,  0.5],\n",
       "       [ 0.5,  0.5],\n",
       "       [ 0.5,  0.5],\n",
       "       [ 0.5,  0.5],\n",
       "       [ 0.5,  0.5],\n",
       "       [ 0.5,  0.5],\n",
       "       [ 0.5,  0.5],\n",
       "       [ 0.5,  0.5],\n",
       "       [ 0.5,  0.5],\n",
       "       [ 0.5,  0.5],\n",
       "       [ 0.5,  0.5],\n",
       "       [ 0.5,  0.5],\n",
       "       [ 0.5,  0.5],\n",
       "       [ 0.5,  0.5],\n",
       "       [ 0.5,  0.5],\n",
       "       [ 0.5,  0.5],\n",
       "       [ 0.5,  0.5],\n",
       "       [ 0.5,  0.5],\n",
       "       [ 0.5,  0.5],\n",
       "       [ 0.5,  0.5],\n",
       "       [ 0.5,  0.5],\n",
       "       [ 0.5,  0.5],\n",
       "       [ 0.5,  0.5],\n",
       "       [ 0.5,  0.5],\n",
       "       [ 0.5,  0.5],\n",
       "       [ 0.5,  0.5],\n",
       "       [ 0.5,  0.5],\n",
       "       [ 0.5,  0.5],\n",
       "       [ 0.5,  0.5],\n",
       "       [ 0.5,  0.5],\n",
       "       [ 0.5,  0.5],\n",
       "       [ 0.5,  0.5],\n",
       "       [ 0.5,  0.5],\n",
       "       [ 0.5,  0.5],\n",
       "       [ 0.5,  0.5],\n",
       "       [ 0.5,  0.5],\n",
       "       [ 0.5,  0.5],\n",
       "       [ 0.5,  0.5],\n",
       "       [ 0.5,  0.5],\n",
       "       [ 0.5,  0.5],\n",
       "       [ 0.5,  0.5],\n",
       "       [ 0.5,  0.5]])"
      ]
     },
     "execution_count": 109,
     "metadata": {},
     "output_type": "execute_result"
    }
   ],
   "source": [
    "logs['riemannian_sgd_rand'][-1].predict_proba(X_val)"
   ]
  },
  {
   "cell_type": "code",
   "execution_count": null,
   "metadata": {
    "collapsed": true
   },
   "outputs": [],
   "source": [
    "# Choose the step size for sgd\n"
   ]
  },
  {
   "cell_type": "code",
   "execution_count": 42,
   "metadata": {
    "collapsed": false
   },
   "outputs": [
    {
     "data": {
      "text/plain": [
       "17.867469528251185"
      ]
     },
     "execution_count": 42,
     "metadata": {},
     "output_type": "execute_result"
    }
   ],
   "source": [
    "\n",
    "# To use the same order of looping through objects for all runs.\n",
    "rieamannian_model = TTRegression('all-subsets', 'logistic', 4, 32000.0, 'riemannian-sgd', max_iter=10, verbose=1,\n",
    "                                 batch_size=500, fit_intercept=False, reg=0.)\n",
    "rieamannian_model.fit_log_val(X_train, y_train, X_val, y_val)\n",
    "rieamannian_model.logger.loss_hist['train']['logistic'][-1]"
   ]
  },
  {
   "cell_type": "code",
   "execution_count": null,
   "metadata": {
    "collapsed": true
   },
   "outputs": [],
   "source": [
    "plt.loglog(rieamannian_model.logger.loss_hist['train']['logistic'])"
   ]
  },
  {
   "cell_type": "code",
   "execution_count": 41,
   "metadata": {
    "collapsed": false
   },
   "outputs": [
    {
     "data": {
      "text/plain": [
       "5.2376773398940273"
      ]
     },
     "execution_count": 41,
     "metadata": {},
     "output_type": "execute_result"
    }
   ],
   "source": [
    "\n",
    "# To use the same order of looping through objects for all runs.\n",
    "rieamannian_model = TTRegression('all-subsets', 'logistic', 4, 16000.0, 'riemannian-sgd', max_iter=10, verbose=1,\n",
    "                                 batch_size=500, fit_intercept=False, reg=0.)\n",
    "rieamannian_model.fit_log_val(X_train, y_train, X_val, y_val)\n",
    "rieamannian_model.logger.loss_hist['train']['logistic'][-1]"
   ]
  },
  {
   "cell_type": "code",
   "execution_count": 39,
   "metadata": {
    "collapsed": false
   },
   "outputs": [
    {
     "data": {
      "text/plain": [
       "[<matplotlib.lines.Line2D at 0x1139b3b50>]"
      ]
     },
     "execution_count": 39,
     "metadata": {},
     "output_type": "execute_result"
    },
    {
     "data": {
      "image/png": "[encoded data removed]",
      "text/plain": [
       "<matplotlib.figure.Figure at 0x1139bf050>"
      ]
     },
     "metadata": {},
     "output_type": "display_data"
    }
   ],
   "source": [
    "plt.loglog(rieamannian_model.logger.loss_hist['train']['logistic'])"
   ]
  },
  {
   "cell_type": "code",
   "execution_count": 43,
   "metadata": {
    "collapsed": false
   },
   "outputs": [
    {
     "data": {
      "text/plain": [
       "4.2812900713979012"
      ]
     },
     "execution_count": 43,
     "metadata": {},
     "output_type": "execute_result"
    }
   ],
   "source": [
    "\n",
    "# To use the same order of looping through objects for all runs.\n",
    "rieamannian_model = TTRegression('all-subsets', 'logistic', 4, 8000.0, 'riemannian-sgd', max_iter=10, verbose=1,\n",
    "                                 batch_size=500, fit_intercept=False, reg=0.)\n",
    "rieamannian_model.fit_log_val(X_train, y_train, X_val, y_val)\n",
    "rieamannian_model.logger.loss_hist['train']['logistic'][-1]"
   ]
  },
  {
   "cell_type": "code",
   "execution_count": 37,
   "metadata": {
    "collapsed": false
   },
   "outputs": [
    {
     "data": {
      "text/plain": [
       "[<matplotlib.lines.Line2D at 0x1139b3490>]"
      ]
     },
     "execution_count": 37,
     "metadata": {},
     "output_type": "execute_result"
    },
    {
     "data": {
      "image/png": "[encoded data removed]",
      "text/plain": [
       "<matplotlib.figure.Figure at 0x104596990>"
      ]
     },
     "metadata": {},
     "output_type": "display_data"
    }
   ],
   "source": [
    "plt.loglog(rieamannian_model.logger.loss_hist['train']['logistic'])"
   ]
  },
  {
   "cell_type": "code",
   "execution_count": 44,
   "metadata": {
    "collapsed": false
   },
   "outputs": [
    {
     "data": {
      "text/plain": [
       "3.2772404275048075"
      ]
     },
     "execution_count": 44,
     "metadata": {},
     "output_type": "execute_result"
    }
   ],
   "source": [
    "\n",
    "# To use the same order of looping through objects for all runs.\n",
    "rieamannian_model = TTRegression('all-subsets', 'logistic', 4, 4000.0, 'riemannian-sgd', max_iter=10, verbose=1,\n",
    "                                 batch_size=500, fit_intercept=False, reg=0.)\n",
    "rieamannian_model.fit_log_val(X_train, y_train, X_val, y_val)\n",
    "rieamannian_model.logger.loss_hist['train']['logistic'][-1]"
   ]
  },
  {
   "cell_type": "code",
   "execution_count": 30,
   "metadata": {
    "collapsed": false
   },
   "outputs": [
    {
     "data": {
      "text/plain": [
       "3.8138777144144325e-07"
      ]
     },
     "execution_count": 30,
     "metadata": {},
     "output_type": "execute_result"
    }
   ],
   "source": [
    "\n",
    "# To use the same order of looping through objects for all runs.\n",
    "rieamannian_model = TTRegression('all-subsets', 'logistic', 4, 2000.0, 'riemannian-sgd', max_iter=200, verbose=1,\n",
    "                                 batch_size=500, fit_intercept=False, reg=0.)\n",
    "rieamannian_model.fit_log_val(X_train, y_train, X_val, y_val)\n",
    "rieamannian_model.logger.loss_hist['train']['logistic'][-1]"
   ]
  },
  {
   "cell_type": "code",
   "execution_count": 45,
   "metadata": {
    "collapsed": false
   },
   "outputs": [
    {
     "data": {
      "text/plain": [
       "1.2588001429859041"
      ]
     },
     "execution_count": 45,
     "metadata": {},
     "output_type": "execute_result"
    }
   ],
   "source": [
    "\n",
    "# To use the same order of looping through objects for all runs.\n",
    "rieamannian_model = TTRegression('all-subsets', 'logistic', 4, 1200.0, 'riemannian-sgd', max_iter=10, verbose=1,\n",
    "                                 batch_size=500, fit_intercept=False, reg=0.)\n",
    "rieamannian_model.fit_log_val(X_train, y_train, X_val, y_val)\n",
    "rieamannian_model.logger.loss_hist['train']['logistic'][-1]"
   ]
  },
  {
   "cell_type": "code",
   "execution_count": 46,
   "metadata": {
    "collapsed": false
   },
   "outputs": [
    {
     "data": {
      "text/plain": [
       "0.64938201034652476"
      ]
     },
     "execution_count": 46,
     "metadata": {},
     "output_type": "execute_result"
    }
   ],
   "source": [
    "\n",
    "# To use the same order of looping through objects for all runs.\n",
    "rieamannian_model = TTRegression('all-subsets', 'logistic', 4, 600.0, 'riemannian-sgd', max_iter=10, verbose=1,\n",
    "                                 batch_size=500, fit_intercept=False, reg=0.)\n",
    "rieamannian_model.fit_log_val(X_train, y_train, X_val, y_val)\n",
    "rieamannian_model.logger.loss_hist['train']['logistic'][-1]"
   ]
  },
  {
   "cell_type": "code",
   "execution_count": 47,
   "metadata": {
    "collapsed": false
   },
   "outputs": [
    {
     "data": {
      "text/plain": [
       "0.56848235213715392"
      ]
     },
     "execution_count": 47,
     "metadata": {},
     "output_type": "execute_result"
    }
   ],
   "source": [
    "\n",
    "# To use the same order of looping through objects for all runs.\n",
    "rieamannian_model = TTRegression('all-subsets', 'logistic', 4, 500.0, 'riemannian-sgd', max_iter=10, verbose=1,\n",
    "                                 batch_size=500, fit_intercept=False, reg=0.)\n",
    "rieamannian_model.fit_log_val(X_train, y_train, X_val, y_val)\n",
    "rieamannian_model.logger.loss_hist['train']['logistic'][-1]"
   ]
  },
  {
   "cell_type": "code",
   "execution_count": 48,
   "metadata": {
    "collapsed": false
   },
   "outputs": [
    {
     "data": {
      "text/plain": [
       "0.44834578313021378"
      ]
     },
     "execution_count": 48,
     "metadata": {},
     "output_type": "execute_result"
    }
   ],
   "source": [
    "\n",
    "# To use the same order of looping through objects for all runs.\n",
    "rieamannian_model = TTRegression('all-subsets', 'logistic', 4, 400.0, 'riemannian-sgd', max_iter=10, verbose=1,\n",
    "                                 batch_size=500, fit_intercept=False, reg=0.)\n",
    "rieamannian_model.fit_log_val(X_train, y_train, X_val, y_val)\n",
    "rieamannian_model.logger.loss_hist['train']['logistic'][-1]"
   ]
  },
  {
   "cell_type": "code",
   "execution_count": 49,
   "metadata": {
    "collapsed": false
   },
   "outputs": [
    {
     "data": {
      "text/plain": [
       "0.12317075220657484"
      ]
     },
     "execution_count": 49,
     "metadata": {},
     "output_type": "execute_result"
    }
   ],
   "source": [
    "\n",
    "# To use the same order of looping through objects for all runs.\n",
    "rieamannian_model = TTRegression('all-subsets', 'logistic', 4, 300.0, 'riemannian-sgd', max_iter=10, verbose=1,\n",
    "                                 batch_size=500, fit_intercept=False, reg=0.)\n",
    "rieamannian_model.fit_log_val(X_train, y_train, X_val, y_val)\n",
    "rieamannian_model.logger.loss_hist['train']['logistic'][-1]"
   ]
  },
  {
   "cell_type": "code",
   "execution_count": 50,
   "metadata": {
    "collapsed": false
   },
   "outputs": [
    {
     "data": {
      "text/plain": [
       "0.11523507694629134"
      ]
     },
     "execution_count": 50,
     "metadata": {},
     "output_type": "execute_result"
    }
   ],
   "source": [
    "\n",
    "# To use the same order of looping through objects for all runs.\n",
    "rieamannian_model = TTRegression('all-subsets', 'logistic', 4, 250.0, 'riemannian-sgd', max_iter=10, verbose=1,\n",
    "                                 batch_size=500, fit_intercept=False, reg=0.)\n",
    "rieamannian_model.fit_log_val(X_train, y_train, X_val, y_val)\n",
    "rieamannian_model.logger.loss_hist['train']['logistic'][-1]"
   ]
  },
  {
   "cell_type": "code",
   "execution_count": 51,
   "metadata": {
    "collapsed": false
   },
   "outputs": [
    {
     "data": {
      "text/plain": [
       "0.078775459626710592"
      ]
     },
     "execution_count": 51,
     "metadata": {},
     "output_type": "execute_result"
    }
   ],
   "source": [
    "\n",
    "# To use the same order of looping through objects for all runs.\n",
    "rieamannian_model = TTRegression('all-subsets', 'logistic', 4, 200.0, 'riemannian-sgd', max_iter=10, verbose=1,\n",
    "                                 batch_size=500, fit_intercept=False, reg=0.)\n",
    "rieamannian_model.fit_log_val(X_train, y_train, X_val, y_val)\n",
    "rieamannian_model.logger.loss_hist['train']['logistic'][-1]"
   ]
  },
  {
   "cell_type": "code",
   "execution_count": 56,
   "metadata": {
    "collapsed": false
   },
   "outputs": [
    {
     "data": {
      "text/plain": [
       "3.1281075685984382e-06"
      ]
     },
     "execution_count": 56,
     "metadata": {},
     "output_type": "execute_result"
    }
   ],
   "source": [
    "\n",
    "# To use the same order of looping through objects for all runs.\n",
    "rieamannian_model_800 = TTRegression('all-subsets', 'logistic', 4, 800.0, 'riemannian-sgd', max_iter=200, verbose=1,\n",
    "                                 batch_size=500, fit_intercept=False, reg=0.)\n",
    "rieamannian_model_800.fit_log_val(X_train, y_train, X_val, y_val)\n",
    "rieamannian_model_800.logger.loss_hist['train']['logistic'][-1]"
   ]
  },
  {
   "cell_type": "code",
   "execution_count": 54,
   "metadata": {
    "collapsed": false
   },
   "outputs": [
    {
     "data": {
      "text/plain": [
       "4.6763795526036593e-07"
      ]
     },
     "execution_count": 54,
     "metadata": {},
     "output_type": "execute_result"
    }
   ],
   "source": [
    "\n",
    "# To use the same order of looping through objects for all runs.\n",
    "rieamannian_model_1600 = TTRegression('all-subsets', 'logistic', 4, 1600.0, 'riemannian-sgd', max_iter=200, verbose=1,\n",
    "                                 batch_size=500, fit_intercept=False, reg=0.)\n",
    "rieamannian_model_1600.fit_log_val(X_train, y_train, X_val, y_val)\n",
    "rieamannian_model_1600.logger.loss_hist['train']['logistic'][-1]"
   ]
  },
  {
   "cell_type": "code",
   "execution_count": 52,
   "metadata": {
    "collapsed": false
   },
   "outputs": [
    {
     "data": {
      "text/plain": [
       "0.00026016104170833684"
      ]
     },
     "execution_count": 52,
     "metadata": {},
     "output_type": "execute_result"
    }
   ],
   "source": [
    "\n",
    "# To use the same order of looping through objects for all runs.\n",
    "rieamannian_model = TTRegression('all-subsets', 'logistic', 4, 160.0, 'riemannian-sgd', max_iter=200, verbose=1,\n",
    "                                 batch_size=500, fit_intercept=False, reg=0.)\n",
    "rieamannian_model.fit_log_val(X_train, y_train, X_val, y_val)\n",
    "rieamannian_model.logger.loss_hist['train']['logistic'][-1]"
   ]
  },
  {
   "cell_type": "code",
   "execution_count": 57,
   "metadata": {
    "collapsed": false
   },
   "outputs": [
    {
     "data": {
      "text/plain": [
       "[<matplotlib.lines.Line2D at 0x1117c3190>]"
      ]
     },
     "execution_count": 57,
     "metadata": {},
     "output_type": "execute_result"
    },
    {
     "data": {
      "image/png": "[encoded data removed]",
      "text/plain": [
       "<matplotlib.figure.Figure at 0x11118fd10>"
      ]
     },
     "metadata": {},
     "output_type": "display_data"
    }
   ],
   "source": [
    "plt.loglog(rieamannian_model.logger.loss_hist['train']['logistic'])\n",
    "plt.loglog(rieamannian_model_1600.logger.loss_hist['train']['logistic'])\n",
    "plt.loglog(rieamannian_model_800.logger.loss_hist['train']['logistic'])\n"
   ]
  },
  {
   "cell_type": "code",
   "execution_count": 21,
   "metadata": {
    "collapsed": false
   },
   "outputs": [
    {
     "data": {
      "text/plain": [
       "0.00033300869655848692"
      ]
     },
     "execution_count": 21,
     "metadata": {},
     "output_type": "execute_result"
    }
   ],
   "source": [
    "\n",
    "# To use the same order of looping through objects for all runs.\n",
    "rieamannian_model = TTRegression('all-subsets', 'logistic', 4, 140.0, 'riemannian-sgd', max_iter=200, verbose=1,\n",
    "                                 batch_size=500, fit_intercept=False, reg=0.)\n",
    "rieamannian_model.fit_log_val(X_train, y_train, X_val, y_val)\n",
    "rieamannian_model.logger.loss_hist['train']['logistic'][-1]"
   ]
  },
  {
   "cell_type": "code",
   "execution_count": 20,
   "metadata": {
    "collapsed": false
   },
   "outputs": [
    {
     "data": {
      "text/plain": [
       "0.0004941606919187378"
      ]
     },
     "execution_count": 20,
     "metadata": {},
     "output_type": "execute_result"
    }
   ],
   "source": [
    "\n",
    "# To use the same order of looping through objects for all runs.\n",
    "rieamannian_model = TTRegression('all-subsets', 'logistic', 4, 120.0, 'riemannian-sgd', max_iter=200, verbose=1,\n",
    "                                 batch_size=500, fit_intercept=False, reg=0.)\n",
    "rieamannian_model.fit_log_val(X_train, y_train, X_val, y_val)\n",
    "rieamannian_model.logger.loss_hist['train']['logistic'][-1]"
   ]
  },
  {
   "cell_type": "code",
   "execution_count": 19,
   "metadata": {
    "collapsed": false
   },
   "outputs": [
    {
     "data": {
      "text/plain": [
       "0.00069424199467138167"
      ]
     },
     "execution_count": 19,
     "metadata": {},
     "output_type": "execute_result"
    }
   ],
   "source": [
    "\n",
    "# To use the same order of looping through objects for all runs.\n",
    "rieamannian_model = TTRegression('all-subsets', 'logistic', 4, 100.0, 'riemannian-sgd', max_iter=200, verbose=1,\n",
    "                                 batch_size=500, fit_intercept=False, reg=0.)\n",
    "rieamannian_model.fit_log_val(X_train, y_train, X_val, y_val)\n",
    "rieamannian_model.logger.loss_hist['train']['logistic'][-1]"
   ]
  },
  {
   "cell_type": "code",
   "execution_count": 18,
   "metadata": {
    "collapsed": false
   },
   "outputs": [
    {
     "data": {
      "text/plain": [
       "0.0011217952114711302"
      ]
     },
     "execution_count": 18,
     "metadata": {},
     "output_type": "execute_result"
    }
   ],
   "source": [
    "\n",
    "# To use the same order of looping through objects for all runs.\n",
    "rieamannian_model = TTRegression('all-subsets', 'logistic', 4, 80.0, 'riemannian-sgd', max_iter=200, verbose=1,\n",
    "                                 batch_size=500, fit_intercept=False, reg=0.)\n",
    "rieamannian_model.fit_log_val(X_train, y_train, X_val, y_val)\n",
    "rieamannian_model.logger.loss_hist['train']['logistic'][-1]"
   ]
  },
  {
   "cell_type": "code",
   "execution_count": 17,
   "metadata": {
    "collapsed": false
   },
   "outputs": [
    {
     "data": {
      "text/plain": [
       "0.001236212271499575"
      ]
     },
     "execution_count": 17,
     "metadata": {},
     "output_type": "execute_result"
    }
   ],
   "source": [
    "\n",
    "# To use the same order of looping through objects for all runs.\n",
    "rieamannian_model = TTRegression('all-subsets', 'logistic', 4, 60.0, 'riemannian-sgd', max_iter=200, verbose=1,\n",
    "                                 batch_size=500, fit_intercept=False, reg=0.)\n",
    "rieamannian_model.fit_log_val(X_train, y_train, X_val, y_val)\n",
    "rieamannian_model.logger.loss_hist['train']['logistic'][-1]"
   ]
  },
  {
   "cell_type": "code",
   "execution_count": 16,
   "metadata": {
    "collapsed": false
   },
   "outputs": [
    {
     "data": {
      "text/plain": [
       "0.0025096523867232153"
      ]
     },
     "execution_count": 16,
     "metadata": {},
     "output_type": "execute_result"
    }
   ],
   "source": [
    "\n",
    "# To use the same order of looping through objects for all runs.\n",
    "rieamannian_model = TTRegression('all-subsets', 'logistic', 4, 40.0, 'riemannian-sgd', max_iter=200, verbose=1,\n",
    "                                 batch_size=500, fit_intercept=False, reg=0.)\n",
    "rieamannian_model.fit_log_val(X_train, y_train, X_val, y_val)\n",
    "rieamannian_model.logger.loss_hist['train']['logistic'][-1]"
   ]
  },
  {
   "cell_type": "code",
   "execution_count": 15,
   "metadata": {
    "collapsed": false
   },
   "outputs": [
    {
     "data": {
      "text/plain": [
       "0.0043267280526794877"
      ]
     },
     "execution_count": 15,
     "metadata": {},
     "output_type": "execute_result"
    }
   ],
   "source": [
    "\n",
    "# To use the same order of looping through objects for all runs.\n",
    "rieamannian_model = TTRegression('all-subsets', 'logistic', 4, 20.0, 'riemannian-sgd', max_iter=200, verbose=1,\n",
    "                                 batch_size=500, fit_intercept=False, reg=0.)\n",
    "rieamannian_model.fit_log_val(X_train, y_train, X_val, y_val)\n",
    "rieamannian_model.logger.loss_hist['train']['logistic'][-1]"
   ]
  },
  {
   "cell_type": "code",
   "execution_count": 12,
   "metadata": {
    "collapsed": false
   },
   "outputs": [
    {
     "data": {
      "text/plain": [
       "0.009119125359184365"
      ]
     },
     "execution_count": 12,
     "metadata": {},
     "output_type": "execute_result"
    }
   ],
   "source": [
    "\n",
    "# To use the same order of looping through objects for all runs.\n",
    "rieamannian_model = TTRegression('all-subsets', 'logistic', 4, 10.0, 'riemannian-sgd', max_iter=200, verbose=1,\n",
    "                                 batch_size=500, fit_intercept=False, reg=0.)\n",
    "rieamannian_model.fit_log_val(X_train, y_train, X_val, y_val)\n",
    "rieamannian_model.logger.loss_hist['train']['logistic'][-1]"
   ]
  },
  {
   "cell_type": "code",
   "execution_count": 13,
   "metadata": {
    "collapsed": false
   },
   "outputs": [
    {
     "data": {
      "text/plain": [
       "0.016789322716112491"
      ]
     },
     "execution_count": 13,
     "metadata": {},
     "output_type": "execute_result"
    }
   ],
   "source": [
    "\n",
    "# To use the same order of looping through objects for all runs.\n",
    "rieamannian_model = TTRegression('all-subsets', 'logistic', 4, 5.0, 'riemannian-sgd', max_iter=200, verbose=1,\n",
    "                                 batch_size=500, fit_intercept=False, reg=0.)\n",
    "rieamannian_model.fit_log_val(X_train, y_train, X_val, y_val)\n",
    "rieamannian_model.logger.loss_hist['train']['logistic'][-1]"
   ]
  },
  {
   "cell_type": "code",
   "execution_count": 14,
   "metadata": {
    "collapsed": false
   },
   "outputs": [
    {
     "data": {
      "text/plain": [
       "0.034886521963542333"
      ]
     },
     "execution_count": 14,
     "metadata": {},
     "output_type": "execute_result"
    }
   ],
   "source": [
    "\n",
    "# To use the same order of looping through objects for all runs.\n",
    "rieamannian_model = TTRegression('all-subsets', 'logistic', 4, 2.0, 'riemannian-sgd', max_iter=200, verbose=1,\n",
    "                                 batch_size=500, fit_intercept=False, reg=0.)\n",
    "rieamannian_model.fit_log_val(X_train, y_train, X_val, y_val)\n",
    "rieamannian_model.logger.loss_hist['train']['logistic'][-1]"
   ]
  },
  {
   "cell_type": "code",
   "execution_count": 7,
   "metadata": {
    "collapsed": false
   },
   "outputs": [
    {
     "data": {
      "text/plain": [
       "nan"
      ]
     },
     "execution_count": 7,
     "metadata": {},
     "output_type": "execute_result"
    }
   ],
   "source": [
    "\n",
    "# To use the same order of looping through objects for all runs.\n",
    "model = TTRegression('all-subsets', 'logistic', 4, 0.08, 'sgd', max_iter=1000, verbose=1,\n",
    "                                 batch_size=500, fit_intercept=False, reg=0.)\n",
    "model.fit_log_val(X_train, y_train, X_val, y_val)\n",
    "model.logger.loss_hist['train']['logistic'][-1]"
   ]
  },
  {
   "cell_type": "code",
   "execution_count": 8,
   "metadata": {
    "collapsed": false
   },
   "outputs": [
    {
     "data": {
      "text/plain": [
       "0.10923394645550188"
      ]
     },
     "execution_count": 8,
     "metadata": {},
     "output_type": "execute_result"
    }
   ],
   "source": [
    "\n",
    "# To use the same order of looping through objects for all runs.\n",
    "model = TTRegression('all-subsets', 'logistic', 4, 0.04, 'sgd', max_iter=1000, verbose=1,\n",
    "                                 batch_size=500, fit_intercept=False, reg=0.)\n",
    "model.fit_log_val(X_train, y_train, X_val, y_val)\n",
    "model.logger.loss_hist['train']['logistic'][-1]"
   ]
  },
  {
   "cell_type": "code",
   "execution_count": 9,
   "metadata": {
    "collapsed": false
   },
   "outputs": [
    {
     "data": {
      "text/plain": [
       "0.039985891406132693"
      ]
     },
     "execution_count": 9,
     "metadata": {},
     "output_type": "execute_result"
    }
   ],
   "source": [
    "\n",
    "# To use the same order of looping through objects for all runs.\n",
    "model = TTRegression('all-subsets', 'logistic', 4, 0.02, 'sgd', max_iter=1000, verbose=1,\n",
    "                                 batch_size=500, fit_intercept=False, reg=0.)\n",
    "model.fit_log_val(X_train, y_train, X_val, y_val)\n",
    "model.logger.loss_hist['train']['logistic'][-1]"
   ]
  },
  {
   "cell_type": "code",
   "execution_count": 10,
   "metadata": {
    "collapsed": false
   },
   "outputs": [
    {
     "data": {
      "text/plain": [
       "0.070527546289762322"
      ]
     },
     "execution_count": 10,
     "metadata": {},
     "output_type": "execute_result"
    }
   ],
   "source": [
    "\n",
    "# To use the same order of looping through objects for all runs.\n",
    "model = TTRegression('all-subsets', 'logistic', 4, 0.01, 'sgd', max_iter=1000, verbose=1,\n",
    "                                 batch_size=500, fit_intercept=False, reg=0.)\n",
    "model.fit_log_val(X_train, y_train, X_val, y_val)\n",
    "model.logger.loss_hist['train']['logistic'][-1]"
   ]
  },
  {
   "cell_type": "code",
   "execution_count": 11,
   "metadata": {
    "collapsed": false
   },
   "outputs": [
    {
     "data": {
      "text/plain": [
       "0.048679468688613017"
      ]
     },
     "execution_count": 11,
     "metadata": {},
     "output_type": "execute_result"
    }
   ],
   "source": [
    "\n",
    "# To use the same order of looping through objects for all runs.\n",
    "model = TTRegression('all-subsets', 'logistic', 4, 0.005, 'sgd', max_iter=1000, verbose=1,\n",
    "                                 batch_size=500, fit_intercept=False, reg=0.)\n",
    "model.fit_log_val(X_train, y_train, X_val, y_val)\n",
    "model.logger.loss_hist['train']['logistic'][-1]"
   ]
  },
  {
   "cell_type": "code",
   "execution_count": 60,
   "metadata": {
    "collapsed": false
   },
   "outputs": [],
   "source": [
    "plain_sgd = {}\n",
    "riemannian_sgd = {}\n",
    "\n",
    "for batch_size in [-1, 100, 500]:\n",
    "    # To use the same order of looping through objects for all runs.\n",
    "    np.random.seed(0)\n",
    "    model = TTRegression('all-subsets', 'logistic', 4, 0.01, 'sgd', max_iter=10000, verbose=1,\n",
    "                         fit_intercept=False, batch_size=batch_size, reg=0.)\n",
    "    model.fit_log_val(X_train, y_train, X_val, y_val)\n",
    "    plain_sgd[batch_size] = model\n",
    "\n",
    "    np.random.seed(0)\n",
    "    # To use the same order of looping through objects for all runs.\n",
    "    rieamannian_model = TTRegression('all-subsets', 'logistic', 4, 400, 'riemannian-sgd', max_iter=800, verbose=1,\n",
    "                                     batch_size=batch_size, fit_intercept=False, reg=0.)\n",
    "    rieamannian_model.fit_log_val(X_train, y_train, X_val, y_val)\n",
    "    riemannian_sgd[batch_size] = rieamannian_model"
   ]
  },
  {
   "cell_type": "code",
   "execution_count": 61,
   "metadata": {
    "collapsed": true
   },
   "outputs": [],
   "source": [
    "with open('data/riemannian_vs_baseline_hiv_400_001.pickle', 'wb') as f:\n",
    "    obj = {'plain_sgd': plain_sgd, 'riemannian_sgd': riemannian_sgd,\n",
    "#            'plain_sgd_rand': plain_sgd_rand, 'riemannian_sgd_rand': riemannian_sgd_rand,\n",
    "#            'plain_sgd_smart_rand': plain_sgd_smart_rand, 'riemannian_sgd_smart_rand': riemannian_sgd_smart_rand,\n",
    "           'X_train': X_train, 'y_train': y_train, 'X_val': X_val, 'y_val': y_val}\n",
    "    pickle.dump(obj, f, protocol=pickle.HIGHEST_PROTOCOL)"
   ]
  },
  {
   "cell_type": "code",
   "execution_count": 62,
   "metadata": {
    "collapsed": true
   },
   "outputs": [],
   "source": [
    "# plain_sgd = {}\n",
    "riemannian_sgd = {}\n",
    "\n",
    "for batch_size in [-1, 100, 500]:\n",
    "    # To use the same order of looping through objects for all runs.\n",
    "#     np.random.seed(0)\n",
    "#     model = TTRegression('all-subsets', 'logistic', 4, 0.01, 'sgd', max_iter=10000, verbose=1,\n",
    "#                          fit_intercept=False, batch_size=batch_size, reg=0.)\n",
    "#     model.fit_log_val(X_train, y_train, X_val, y_val)\n",
    "#     plain_sgd[batch_size] = model\n",
    "\n",
    "    np.random.seed(0)\n",
    "    # To use the same order of looping through objects for all runs.\n",
    "    rieamannian_model = TTRegression('all-subsets', 'logistic', 4, 800, 'riemannian-sgd', max_iter=800, verbose=1,\n",
    "                                     batch_size=batch_size, fit_intercept=False, reg=0.)\n",
    "    rieamannian_model.fit_log_val(X_train, y_train, X_val, y_val)\n",
    "    riemannian_sgd[batch_size] = rieamannian_model"
   ]
  },
  {
   "cell_type": "code",
   "execution_count": 63,
   "metadata": {
    "collapsed": true
   },
   "outputs": [],
   "source": [
    "with open('data/riemannian_vs_baseline_hiv_800_001.pickle', 'wb') as f:\n",
    "    obj = {'plain_sgd': plain_sgd, 'riemannian_sgd': riemannian_sgd,\n",
    "#            'plain_sgd_rand': plain_sgd_rand, 'riemannian_sgd_rand': riemannian_sgd_rand,\n",
    "#            'plain_sgd_smart_rand': plain_sgd_smart_rand, 'riemannian_sgd_smart_rand': riemannian_sgd_smart_rand,\n",
    "           'X_train': X_train, 'y_train': y_train, 'X_val': X_val, 'y_val': y_val}\n",
    "    pickle.dump(obj, f, protocol=pickle.HIGHEST_PROTOCOL)"
   ]
  },
  {
   "cell_type": "code",
   "execution_count": 64,
   "metadata": {
    "collapsed": true
   },
   "outputs": [],
   "source": [
    "# plain_sgd = {}\n",
    "riemannian_sgd = {}\n",
    "\n",
    "for batch_size in [-1, 100, 500]:\n",
    "    # To use the same order of looping through objects for all runs.\n",
    "#     np.random.seed(0)\n",
    "#     model = TTRegression('all-subsets', 'logistic', 4, 0.01, 'sgd', max_iter=10000, verbose=1,\n",
    "#                          fit_intercept=False, batch_size=batch_size, reg=0.)\n",
    "#     model.fit_log_val(X_train, y_train, X_val, y_val)\n",
    "#     plain_sgd[batch_size] = model\n",
    "\n",
    "    np.random.seed(0)\n",
    "    # To use the same order of looping through objects for all runs.\n",
    "    rieamannian_model = TTRegression('all-subsets', 'logistic', 4, 200, 'riemannian-sgd', max_iter=800, verbose=1,\n",
    "                                     batch_size=batch_size, fit_intercept=False, reg=0.)\n",
    "    rieamannian_model.fit_log_val(X_train, y_train, X_val, y_val)\n",
    "    riemannian_sgd[batch_size] = rieamannian_model"
   ]
  },
  {
   "cell_type": "code",
   "execution_count": 65,
   "metadata": {
    "collapsed": true
   },
   "outputs": [],
   "source": [
    "with open('data/riemannian_vs_baseline_hiv_200_001.pickle', 'wb') as f:\n",
    "    obj = {'plain_sgd': plain_sgd, 'riemannian_sgd': riemannian_sgd,\n",
    "#            'plain_sgd_rand': plain_sgd_rand, 'riemannian_sgd_rand': riemannian_sgd_rand,\n",
    "#            'plain_sgd_smart_rand': plain_sgd_smart_rand, 'riemannian_sgd_smart_rand': riemannian_sgd_smart_rand,\n",
    "           'X_train': X_train, 'y_train': y_train, 'X_val': X_val, 'y_val': y_val}\n",
    "    pickle.dump(obj, f, protocol=pickle.HIGHEST_PROTOCOL)"
   ]
  },
  {
   "cell_type": "markdown",
   "metadata": {},
   "source": [
    "## Train from random init"
   ]
  },
  {
   "cell_type": "code",
   "execution_count": 84,
   "metadata": {
    "collapsed": false
   },
   "outputs": [],
   "source": [
    "np.random.seed(0)\n",
    "w_init = tt.rand(2 * np.ones(X.shape[1]), r=4)\n",
    "# Divide by norm to make sure the norm is reasonable,\n",
    "# round to make all the ranks are valid.\n",
    "w_init = ((1 / w_init.norm()) * w_init).round(eps=0)\n",
    "\n",
    "plain_sgd_rand = {}\n",
    "riemannian_sgd_rand = {}\n",
    "\n",
    "batch_size = -1\n",
    "# # To use the same order of looping through objects for all runs.\n",
    "# np.random.seed(0)\n",
    "# model_rand = TTRegression('all-subsets', 'logistic', 4, 'sgd', max_iter=5000, verbose=1,\n",
    "#                      fit_intercept=False, batch_size=batch_size, reg=0., coef0=w_init)\n",
    "# model_rand.fit_log_val(X_train, y_train, X_val, y_val)\n",
    "# plain_sgd_rand[batch_size] = model_rand\n",
    "\n",
    "# To use the same order of looping through objects for all runs.\n",
    "np.random.seed(0)\n",
    "riemannian_model_rand = TTRegression('all-subsets', 'logistic', 4, 800, 'riemannian-sgd', max_iter=1600, verbose=1,\n",
    "                                     batch_size=batch_size, fit_intercept=False, reg=0., coef0=w_init)\n",
    "riemannian_model_rand.fit_log_val(X_train, y_train, X_val, y_val)\n",
    "riemannian_sgd_rand[batch_size] = riemannian_model_rand"
   ]
  },
  {
   "cell_type": "markdown",
   "metadata": {},
   "source": [
    "## Random init with beter distribution"
   ]
  },
  {
   "cell_type": "code",
   "execution_count": 85,
   "metadata": {
    "collapsed": true
   },
   "outputs": [],
   "source": [
    "from src.models.all_subsets import tensorize_linear_init\n",
    "w_init = tensorize_linear_init(np.random.rand(X.shape[1]), np.random.rand())\n",
    "for _ in range(2):\n",
    "    w_init = w_init + 0 * tt.ones(2, X.shape[1])\n",
    "w_init = w_init.round(eps=0)\n",
    "\n",
    "plain_sgd_smart_rand = {}\n",
    "riemannian_sgd_smart_rand = {}\n",
    "\n",
    "batch_size = -1\n",
    "# # To use the same order of looping through objects for all runs.\n",
    "# np.random.seed(0)\n",
    "# model_rand = TTRegression('all-subsets', 'logistic', 4, 'sgd', max_iter=5000, verbose=1,\n",
    "#                      fit_intercept=False, batch_size=batch_size, reg=0., coef0=w_init)\n",
    "# model_rand.fit_log_val(X_train, y_train, X_val, y_val)\n",
    "# plain_sgd_smart_rand[batch_size] = model_rand\n",
    "\n",
    "# To use the same order of looping through objects for all runs.\n",
    "np.random.seed(0)\n",
    "riemannian_model_rand = TTRegression('all-subsets', 'logistic', 4, 800, 'riemannian-sgd', max_iter=1600, verbose=1,\n",
    "                                     batch_size=batch_size, fit_intercept=False, reg=0., coef0=w_init)\n",
    "riemannian_model_rand.fit_log_val(X_train, y_train, X_val, y_val)\n",
    "riemannian_sgd_smart_rand[batch_size] = riemannian_model_rand"
   ]
  },
  {
   "cell_type": "markdown",
   "metadata": {},
   "source": [
    "# Save"
   ]
  },
  {
   "cell_type": "code",
   "execution_count": 86,
   "metadata": {
    "collapsed": false
   },
   "outputs": [],
   "source": [
    "with open('data/riemannian_vs_baseline_hiv_800_001.pickle', 'rb') as f:\n",
    "    logs = pickle.load(f)\n",
    "plain_sgd = logs['plain_sgd']\n",
    "riemannian_sgd = logs['riemannian_sgd']\n",
    "\n",
    "with open('data/riemannian_vs_baseline_hiv_800_001_tmp.pickle', 'wb') as f:\n",
    "    obj = {'plain_sgd': plain_sgd, 'riemannian_sgd': riemannian_sgd,\n",
    "           'plain_sgd_rand': plain_sgd_rand, 'riemannian_sgd_rand': riemannian_sgd_rand,\n",
    "           'plain_sgd_smart_rand': plain_sgd_smart_rand, 'riemannian_sgd_smart_rand': riemannian_sgd_smart_rand,\n",
    "           'X_train': X_train, 'y_train': y_train, 'X_val': X_val, 'y_val': y_val}\n",
    "    pickle.dump(obj, f, protocol=pickle.HIGHEST_PROTOCOL)"
   ]
  },
  {
   "cell_type": "markdown",
   "metadata": {},
   "source": [
    "# Plot train"
   ]
  },
  {
   "cell_type": "code",
   "execution_count": 66,
   "metadata": {
    "collapsed": true
   },
   "outputs": [],
   "source": [
    "params = {\n",
    "   'axes.labelsize': 8,\n",
    "   'font.size': 8,\n",
    "   'legend.fontsize': 10,\n",
    "   'xtick.labelsize': 10,\n",
    "   'ytick.labelsize': 10,\n",
    "   'text.usetex': False,\n",
    "   'figure.figsize': [4, 3]\n",
    "   }\n",
    "mpl.rcParams.update(params)\n",
    "\n",
    "\n",
    "colors = [(31, 119, 180), (44, 160, 44), (255, 127, 14), (255, 187, 120)]\n",
    "# Scale the RGB values to the [0, 1] range, which is the format matplotlib accepts.\n",
    "for i in range(len(colors)):\n",
    "    r, g, b = colors[i]\n",
    "    colors[i] = (r / 255., g / 255., b / 255.)"
   ]
  },
  {
   "cell_type": "code",
   "execution_count": 159,
   "metadata": {
    "collapsed": false
   },
   "outputs": [
    {
     "data": {
      "image/png": "[encoded data removed]",
      "text/plain": [
       "<matplotlib.figure.Figure at 0x11722df90>"
      ]
     },
     "metadata": {},
     "output_type": "display_data"
    }
   ],
   "source": [
    "with open('data/riemannian_vs_baseline_hiv_800_001_tmp.pickle', 'rb') as f:\n",
    "    logs = pickle.load(f)\n",
    "\n",
    "fig = plt.figure()\n",
    "plt.loglog(logs['plain_sgd'][-1].logger.time_hist,\n",
    "           logs['plain_sgd'][-1].logger.loss_hist['train']['logistic'], label='Cores GD',\n",
    "           linewidth=2, color=colors[0])\n",
    "plt.loglog(logs['plain_sgd'][100].logger.time_hist, logs['plain_sgd'][100].logger.loss_hist['train']['logistic'],\n",
    "           label='Cores SGD 100', linewidth=2, color=colors[1])\n",
    "plt.loglog(logs['plain_sgd'][500].logger.time_hist, logs['plain_sgd'][500].logger.loss_hist['train']['logistic'],\n",
    "           label='Cores SGD 500', linewidth=2, color=colors[2])\n",
    "\n",
    "grid = np.array([0.01, 80, 170]) / 10\n",
    "x = logs['riemannian_sgd'][-1].logger.time_hist\n",
    "marker_indices = np.searchsorted(x, grid)\n",
    "plt.loglog(logs['riemannian_sgd'][-1].logger.time_hist,\n",
    "           logs['riemannian_sgd'][-1].logger.loss_hist['train']['logistic'],\n",
    "           marker='o', markevery=marker_indices, label='Riemann GD', linewidth=2, color=colors[0])\n",
    "grid = np.array([0.05, 80, 170]) / 10\n",
    "x = logs['riemannian_sgd'][100].logger.time_hist\n",
    "marker_indices = np.searchsorted(x, grid)\n",
    "plt.loglog(logs['riemannian_sgd'][100].logger.time_hist,\n",
    "           logs['riemannian_sgd'][100].logger.loss_hist['train']['logistic'],\n",
    "           marker='o', markevery=marker_indices, label='Riemann 100', linewidth=2, color=colors[1])\n",
    "grid = np.array([0.1, 70, 200]) / 10\n",
    "x = logs['riemannian_sgd'][500].logger.time_hist\n",
    "marker_indices = np.searchsorted(x, grid)\n",
    "plt.loglog(logs['riemannian_sgd'][500].logger.time_hist,\n",
    "           logs['riemannian_sgd'][500].logger.loss_hist['train']['logistic'],\n",
    "           marker='o', markevery=marker_indices, label='Riemann 500', linewidth=2, color=colors[2])\n",
    "\n",
    "grid = np.array([0.1, 20, 400]) / 3\n",
    "x = logs['riemannian_sgd_rand'][-1].logger.time_hist\n",
    "marker_indices = np.searchsorted(x, grid)\n",
    "plt.loglog(logs['riemannian_sgd_rand'][-1].logger.time_hist,\n",
    "           logs['riemannian_sgd_rand'][-1].logger.loss_hist['train']['logistic'],\n",
    "           marker='s', markevery=marker_indices, label='Riemann GD rand init 1', linewidth=2, color=colors[0])\n",
    "\n",
    "grid = np.array([0.8, 3, 150, 320]) / 3\n",
    "x = logs['riemannian_sgd_rand'][-1].logger.time_hist\n",
    "marker_indices = np.searchsorted(x, grid)\n",
    "plt.loglog(logs['riemannian_sgd_smart_rand'][-1].logger.time_hist,\n",
    "           logs['riemannian_sgd_smart_rand'][-1].logger.loss_hist['train']['logistic'],\n",
    "           marker='v', markevery=marker_indices, label='Riemann GD rand init 2', linewidth=2, color=colors[0])\n",
    "\n",
    "# plt.loglog(plain_sgd_rand[-1].logger.time_hist,\n",
    "#            plain_sgd_rand[-1].logger.loss_hist['train']['logistic'],\n",
    "#            marker='v', markevery=marker_indices, label='Cores GD rand init', linewidth=2, color=colors[0])\n",
    "\n",
    "legend = plt.legend(loc='upper left', bbox_to_anchor=(1, 1.04), frameon=False)\n",
    "plt.xlabel('time (s)')\n",
    "plt.ylabel('training loss (logistic)')\n",
    "plt.minorticks_off()\n",
    "ax = plt.gca()\n",
    "ax.set_ylim([1e-8, 200])\n",
    "ax.set_xlim([0.1, 1000])\n",
    "fig.tight_layout()"
   ]
  },
  {
   "cell_type": "code",
   "execution_count": 160,
   "metadata": {
    "collapsed": true
   },
   "outputs": [],
   "source": [
    "fig.savefig('data/riemannian_vs_plain_hiv_train.pdf', bbox_extra_artists=(legend,), bbox_inches='tight')"
   ]
  },
  {
   "cell_type": "markdown",
   "metadata": {
    "collapsed": false
   },
   "source": [
    "# Plot validation"
   ]
  },
  {
   "cell_type": "code",
   "execution_count": 161,
   "metadata": {
    "collapsed": false
   },
   "outputs": [
    {
     "data": {
      "image/png": "[encoded data removed]",
      "text/plain": [
       "<matplotlib.figure.Figure at 0x117598750>"
      ]
     },
     "metadata": {},
     "output_type": "display_data"
    }
   ],
   "source": [
    "with open('data/riemannian_vs_baseline_hiv_800_001_tmp.pickle', 'rb') as f:\n",
    "    logs = pickle.load(f)\n",
    "\n",
    "fig = plt.figure()\n",
    "plt.loglog(logs['plain_sgd'][-1].logger.time_hist,\n",
    "           logs['plain_sgd'][-1].logger.loss_hist['valid']['logistic'], label='Cores GD',\n",
    "           linewidth=2, color=colors[0])\n",
    "plt.loglog(logs['plain_sgd'][100].logger.time_hist, logs['plain_sgd'][100].logger.loss_hist['valid']['logistic'],\n",
    "           label='Cores SGD 100', linewidth=2, color=colors[1])\n",
    "plt.loglog(logs['plain_sgd'][500].logger.time_hist, logs['plain_sgd'][500].logger.loss_hist['valid']['logistic'],\n",
    "           label='Cores SGD 500', linewidth=2, color=colors[2])\n",
    "\n",
    "grid = np.array([0.01, 80, 170]) / 2\n",
    "x = logs['riemannian_sgd'][-1].logger.time_hist\n",
    "marker_indices = np.searchsorted(x, grid)\n",
    "plt.loglog(logs['riemannian_sgd'][-1].logger.time_hist,\n",
    "           logs['riemannian_sgd'][-1].logger.loss_hist['valid']['logistic'],\n",
    "           marker='o', markevery=marker_indices, label='Riemann GD', linewidth=2, color=colors[0])\n",
    "grid = np.array([0.05, 80, 170]) / 2\n",
    "x = logs['riemannian_sgd'][100].logger.time_hist\n",
    "marker_indices = np.searchsorted(x, grid)\n",
    "plt.loglog(logs['riemannian_sgd'][100].logger.time_hist,\n",
    "           logs['riemannian_sgd'][100].logger.loss_hist['valid']['logistic'],\n",
    "           marker='o', markevery=marker_indices, label='Riemann 100', linewidth=2, color=colors[1])\n",
    "grid = np.array([0.1, 70, 200]) / 2\n",
    "x = logs['riemannian_sgd'][500].logger.time_hist\n",
    "marker_indices = np.searchsorted(x, grid)\n",
    "plt.loglog(logs['riemannian_sgd'][500].logger.time_hist,\n",
    "           logs['riemannian_sgd'][500].logger.loss_hist['valid']['logistic'],\n",
    "           marker='o', markevery=marker_indices, label='Riemann 500', linewidth=2, color=colors[2])\n",
    "\n",
    "grid = np.array([0.1, 20, 400]) / 2\n",
    "x = logs['riemannian_sgd_rand'][-1].logger.time_hist\n",
    "marker_indices = np.searchsorted(x, grid)\n",
    "plt.loglog(logs['riemannian_sgd_rand'][-1].logger.time_hist,\n",
    "           logs['riemannian_sgd_rand'][-1].logger.loss_hist['valid']['logistic'],\n",
    "           marker='s', markevery=marker_indices, label='Riemann GD rand init 1', linewidth=2, color=colors[0])\n",
    "\n",
    "grid = np.array([0.8, 3, 150, 320])\n",
    "x = logs['riemannian_sgd_rand'][-1].logger.time_hist\n",
    "marker_indices = np.searchsorted(x, grid)\n",
    "plt.loglog(logs['riemannian_sgd_smart_rand'][-1].logger.time_hist,\n",
    "           logs['riemannian_sgd_smart_rand'][-1].logger.loss_hist['valid']['logistic'],\n",
    "           marker='v', markevery=marker_indices, label='Riemann GD rand init 2', linewidth=2, color=colors[0])\n",
    "\n",
    "# plt.loglog(plain_sgd_rand[-1].logger.time_hist,\n",
    "#            plain_sgd_rand[-1].logger.loss_hist['valid']['logistic'],\n",
    "#            marker='v', markevery=marker_indices, label='Cores GD rand init', linewidth=2, color=colors[0])\n",
    "\n",
    "legend = plt.legend(loc='upper left', bbox_to_anchor=(1, 1.04), frameon=False)\n",
    "plt.xlabel('time (s)')\n",
    "plt.ylabel('test loss (logistic)')\n",
    "plt.minorticks_off()\n",
    "ax = plt.gca()\n",
    "ax.set_ylim([0.02, 40])\n",
    "ax.set_xlim([0.1, 1000])\n",
    "fig.tight_layout()"
   ]
  },
  {
   "cell_type": "code",
   "execution_count": 162,
   "metadata": {
    "collapsed": true
   },
   "outputs": [],
   "source": [
    "fig.savefig('data/riemannian_vs_plain_hiv_validation.pdf', bbox_extra_artists=(legend,), bbox_inches='tight')"
   ]
  },
  {
   "cell_type": "code",
   "execution_count": null,
   "metadata": {
    "collapsed": true
   },
   "outputs": [],
   "source": []
  }
 ],
 "metadata": {
  "kernelspec": {
   "display_name": "Python 2",
   "language": "python",
   "name": "python2"
  },
  "language_info": {
   "codemirror_mode": {
    "name": "ipython",
    "version": 2
   },
   "file_extension": ".py",
   "mimetype": "text/x-python",
   "name": "python",
   "nbconvert_exporter": "python",
   "pygments_lexer": "ipython2",
   "version": "2.7.9"
  }
 },
 "nbformat": 4,
 "nbformat_minor": 0
}
